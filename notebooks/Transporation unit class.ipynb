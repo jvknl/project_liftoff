{
 "cells": [
  {
   "cell_type": "markdown",
   "metadata": {},
   "source": [
    "### defining the transportation unit class\n",
    "<li>a transportation unit has a location (latitude and longitude)<li>person capacity: maximum of number of person that can be moved<li>battery_state: what percentage of battery is still full<li>battery_capacity: number of kwh when fully charged<li>avg_km_per_kwh : number of km driver per kilometer<li>state: possible values 1 = 'charging', 2 = 'discharging', 3 = 'stationary' (doing nothing), 4 = 'person transport', 5 = 'package transport\n",
    "\n",
    "a tranportation unit will constantly make a request/decision about what to do next:\n",
    "charge, discharge, transport person, transport package, do nothing (or maybe move empty to area with highest chance of picking up person/package)\n",
    "\n",
    "\n"
   ]
  },
  {
   "cell_type": "code",
   "execution_count": 1,
   "metadata": {},
   "outputs": [],
   "source": [
    "import ipynb.fs.defs.helper_functions as helper_functions"
   ]
  },
  {
   "cell_type": "code",
   "execution_count": 2,
   "metadata": {},
   "outputs": [
    {
     "name": "stdout",
     "output_type": "stream",
     "text": [
      "tu1 at lat:6.5665 and lon:53.2194 radius left:119.0\n"
     ]
    }
   ],
   "source": [
    "class Tu():\n",
    "    def __init__(self, name, lat, lon, person_capacity = 4, battery_state=0.2, battery_capacity=300, \n",
    "                 avg_km_per_kwh=7, state=4\n",
    "                ):\n",
    "        \"assumes name is string\"\n",
    "        self.name = name\n",
    "        self.lat = lat\n",
    "        self.lon = lon\n",
    "        self.person_capacity = person_capacity\n",
    "        self.battery_state = battery_state\n",
    "        self.battery_capacity = battery_capacity\n",
    "        self.avg_km_per_kwh = avg_km_per_kwh\n",
    "        self.state = state\n",
    "    \n",
    "    def get_name(self):\n",
    "        return self.name\n",
    "    \n",
    "    def get_lon(self):\n",
    "        return self.lon\n",
    "\n",
    "    def get_lat(self):\n",
    "        return self.lat\n",
    "\n",
    "    def get_battery_state(self):\n",
    "        return self.battery_state\n",
    "    \n",
    "    def get_state(self):\n",
    "        return self.get_state\n",
    "    \n",
    "    def get_radius(self):\n",
    "        return self.battery_capacity * self.battery_state * self.avg_km_per_kwh\n",
    "    \n",
    "    def __str__(self):\n",
    "        return self.get_name() \\\n",
    "        + ' at lat:' + str(self.get_lat()) + ' and lon:' + str(self.get_lon())\\\n",
    "        +' radius left:'  + str(self.get_radius())\n",
    "        \n",
    "    def update_location(self, lon, lat):\n",
    "        self.lon = lon\n",
    "        self.lat = lat\n",
    "        \n",
    "    def update_state(self, state):\n",
    "        self.state = state\n",
    "        \n",
    "#  where should we calculate the decrease in capacity after a trip has been completed\n",
    "#  is this a method based upon the new location? \n",
    "#  where do we calculate the charging of the battery\n",
    "\n",
    "    def update_capacity(self, capacity):\n",
    "        self.capacity = capacity\n",
    "\n",
    "# next action defines what the car will do next      \n",
    "#     def next_action(self):\n",
    "#         update state\n",
    "#         update time\n",
    "#         update capacity\n",
    "\n",
    "# I guess a TU will exist in a certain time, how do we 'simulate'  this\n",
    "#     def update_time(self, time):\n",
    "#         self.time = time\n",
    "\n",
    "        \n",
    "# transportation unit in center of groningen at t = 0:00   \n",
    "tu1 = Tu(name='tu1', lat=6.5665, lon=53.2194, person_capacity = 4, battery_state=0.2, battery_capacity=85, \n",
    "                 avg_km_per_kwh=7, state=4)\n",
    "\n",
    "print(tu1)\n",
    "    "
   ]
  },
  {
   "cell_type": "code",
   "execution_count": 3,
   "metadata": {},
   "outputs": [
    {
     "name": "stdout",
     "output_type": "stream",
     "text": [
      "(53.2194, 6.5665) (53.2350682, 6.6068002)\n"
     ]
    }
   ],
   "source": [
    "loc1 = (tu1.get_lon(), tu1.get_lat())\n",
    "# loc2 = requested ride to\n",
    "loc2 = (53.2350682,6.6068002)\n",
    "print(loc1, loc2)"
   ]
  },
  {
   "cell_type": "code",
   "execution_count": 4,
   "metadata": {},
   "outputs": [
    {
     "data": {
      "text/plain": [
       "271.7015667695077"
      ]
     },
     "execution_count": 4,
     "metadata": {},
     "output_type": "execute_result"
    }
   ],
   "source": [
    "helper_functions.distance((53.2194, 6.5665), (53.2350682, 6.6068002))"
   ]
  },
  {
   "cell_type": "code",
   "execution_count": 5,
   "metadata": {},
   "outputs": [
    {
     "name": "stdout",
     "output_type": "stream",
     "text": [
      "None\n"
     ]
    }
   ],
   "source": [
    "# after a ride from center of groningen to outskirt has finished\n",
    "# the car has travelled \n",
    "helper_functions.distance(loc1, loc2)\n",
    "print(tu1.update_location(lat=6.6068002, lon=53.2350682))"
   ]
  },
  {
   "cell_type": "code",
   "execution_count": 6,
   "metadata": {},
   "outputs": [],
   "source": [
    "helper_functions.distance?"
   ]
  },
  {
   "cell_type": "code",
   "execution_count": 7,
   "metadata": {},
   "outputs": [],
   "source": [
    "x = (53.2350682,6.6068002)"
   ]
  },
  {
   "cell_type": "code",
   "execution_count": 8,
   "metadata": {},
   "outputs": [
    {
     "data": {
      "text/plain": [
       "53.2350682"
      ]
     },
     "execution_count": 8,
     "metadata": {},
     "output_type": "execute_result"
    }
   ],
   "source": [
    "x[0]"
   ]
  },
  {
   "cell_type": "code",
   "execution_count": 5,
   "metadata": {},
   "outputs": [
    {
     "data": {
      "text/plain": [
       "5064.1108499139045"
      ]
     },
     "execution_count": 5,
     "metadata": {},
     "output_type": "execute_result"
    }
   ],
   "source": [
    "helper_functions.distance((52.3778005, 4.8696408),(51.5792585,5.0769097))"
   ]
  },
  {
   "cell_type": "code",
   "execution_count": null,
   "metadata": {},
   "outputs": [],
   "source": []
  }
 ],
 "metadata": {
  "kernelspec": {
   "display_name": "Python 3",
   "language": "python",
   "name": "python3"
  },
  "language_info": {
   "codemirror_mode": {
    "name": "ipython",
    "version": 3
   },
   "file_extension": ".py",
   "mimetype": "text/x-python",
   "name": "python",
   "nbconvert_exporter": "python",
   "pygments_lexer": "ipython3",
   "version": "3.6.4"
  }
 },
 "nbformat": 4,
 "nbformat_minor": 2
}
