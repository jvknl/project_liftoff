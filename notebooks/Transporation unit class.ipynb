{
 "cells": [
  {
   "cell_type": "markdown",
   "metadata": {},
   "source": [
    "### defining the transportation unit class\n",
    "<li>a transportation unit has a location (latitude and longitude)<li>person capacity: maximum of number of person that can be moved<li>battery_state: what percentage of battery is still full<li>battery_capacity: number of kwh when fully charged<li>avg_km_per_kwh : number of km driver per kilometer<li>state: possible values 1 = 'charging', 2 = 'discharging', 3 = 'stationary' (doing nothing), 4 = 'person transport', 5 = 'package transport\n",
    "\n",
    "a tranportation unit will constantly make a request/decision about what to do next:\n",
    "charge, discharge, transport person, transport package, do nothing (or maybe move empty to area with highest chance of picking up person/package)\n",
    "\n",
    "\n"
   ]
  },
  {
   "cell_type": "code",
   "execution_count": 4,
   "metadata": {},
   "outputs": [],
   "source": [
    "import ipynb.fs.defs.helper_functions as helper_functions"
   ]
  },
  {
   "cell_type": "code",
   "execution_count": 41,
   "metadata": {},
   "outputs": [
    {
     "name": "stdout",
     "output_type": "stream",
     "text": [
      "tu1 at lat:6.5665 and lon:53.2194 radius left:119.0\n"
     ]
    }
   ],
   "source": [
    "class Tu():\n",
    "    def __init__(self, name, lat, lon, person_capacity = 4, battery_state=0.2, battery_capacity=300, \n",
    "                 avg_km_per_kwh=7, state=4\n",
    "                ):\n",
    "        \"assumes name is string\"\n",
    "        self.name = name\n",
    "        self.lat = lat\n",
    "        self.lon = lon\n",
    "        self.person_capacity = person_capacity\n",
    "        self.battery_state = battery_state\n",
    "        self.battery_capacity = battery_capacity\n",
    "        self.avg_km_per_kwh = avg_km_per_kwh\n",
    "        self.state = state\n",
    "    \n",
    "    def get_name(self):\n",
    "        return self.name\n",
    "    \n",
    "    def get_lon(self):\n",
    "        return self.lon\n",
    "\n",
    "    def get_lat(self):\n",
    "        return self.lat\n",
    "\n",
    "    def get_battery_state(self):\n",
    "        return self.battery_state\n",
    "    \n",
    "    def get_state(self):\n",
    "        return self.get_state\n",
    "    \n",
    "    def get_radius(self):\n",
    "        return self.battery_capacity * self.battery_state * self.avg_km_per_kwh\n",
    "    \n",
    "    def __str__(self):\n",
    "        return self.get_name() \\\n",
    "        + ' at lat:' + str(self.get_lat()) + ' and lon:' + str(self.get_lon())\\\n",
    "        +' radius left:'  + str(self.get_radius())\n",
    "        \n",
    "    def update_location(self, lon, lat):\n",
    "        self.lon = lon\n",
    "        self.lat = lat\n",
    "        \n",
    "    def update_state(self, state):\n",
    "        self.state = state\n",
    "        \n",
    "#  where should we calculate the decrease in capacity after a trip has been completed\n",
    "#  is this a method based upon the new location? \n",
    "#  where do we calculate the charging of the battery\n",
    "\n",
    "    def update_capacity(self, capacity):\n",
    "        self.capacity = capacity\n",
    "\n",
    "# next action defines what the car will do next      \n",
    "# maybe we can also use reinforcement learning with multi arm bandit logic where the arms are the possible actions\n",
    "#     def next_action(self):\n",
    "#         update state\n",
    "#         update time\n",
    "#         update capacity\n",
    "\n",
    "# I guess a TU will exist in a certain time, how do we 'simulate'  this\n",
    "#     def update_time(self, time):\n",
    "#         self.time = time\n",
    "\n",
    "        \n",
    "# transportation unit in center of groningen at t = 0:00   \n",
    "tu1 = Tu(name='tu1', lat=6.5665, lon=53.2194, person_capacity = 4, battery_state=0.2, battery_capacity=85, \n",
    "                 avg_km_per_kwh=7, state=4)\n",
    "\n",
    "print(tu1)\n",
    "    "
   ]
  },
  {
   "cell_type": "code",
   "execution_count": 42,
   "metadata": {},
   "outputs": [
    {
     "name": "stdout",
     "output_type": "stream",
     "text": [
      "distance to request is 3.19972640745685\n",
      "distance now is:  0.0\n"
     ]
    }
   ],
   "source": [
    "# loc1 = location of car\n",
    "loc1 = (tu1.get_lon(), tu1.get_lat())\n",
    "# loc2 = location of person requesting transportation\n",
    "loc2 = (53.2350682,6.6068002)\n",
    "\n",
    "# print(loc1, loc2)\n",
    "print('distance to request is', helper_functions.distance ((tu1.get_lon(), tu1.get_lat()), loc2))\n",
    "\n",
    "# after a ride from center of groningen to outskirt has finished\n",
    "# the car has travelled \n",
    "tu1.update_location(lat=6.6068002, lon=53.2350682)\n",
    "loc1 = (tu1.get_lon(), tu1.get_lat())\n",
    "print('distance now is: ', helper_functions.distance(loc1, loc2))"
   ]
  },
  {
   "cell_type": "code",
   "execution_count": 30,
   "metadata": {},
   "outputs": [
    {
     "data": {
      "text/plain": [
       "3.19972640745685"
      ]
     },
     "execution_count": 30,
     "metadata": {},
     "output_type": "execute_result"
    }
   ],
   "source": [
    "helper_functions.distance((53.2194, 6.5665), (53.2350682, 6.6068002))"
   ]
  },
  {
   "cell_type": "markdown",
   "metadata": {},
   "source": [
    "### transportation_request class"
   ]
  },
  {
   "cell_type": "code",
   "execution_count": 44,
   "metadata": {},
   "outputs": [
    {
     "name": "stdout",
     "output_type": "stream",
     "text": [
      "id:1 requests a transport at (2018, 4, 1, 8, 25, 0) for 3.2 KM\n"
     ]
    }
   ],
   "source": [
    "import datetime\n",
    "\n",
    "class Tr():\n",
    "    def __init__(self, start_lat, start_lon, end_lat, end_lon,  request_time, transport_type, request_id):\n",
    "        self.start_lat = start_lat\n",
    "        self.start_lon = start_lon\n",
    "        self.end_lat = end_lat\n",
    "        self.end_lon = end_lon\n",
    "        self.request_id = request_id\n",
    "        self.transport_type = transport_type\n",
    "        self.request_time = request_time\n",
    "    \n",
    "    def get_distance_ride(self):\n",
    "        return helper_functions.distance((self.start_lat, self.start_lon),(self.end_lat,self.end_lon))\n",
    "    \n",
    "    def get_request_id(self):\n",
    "        return self.request_id\n",
    "    \n",
    "    def get_distance_to_tu(self, tu_location):\n",
    "        #location of transportation unit\n",
    "        return helper_functions.distance((tu_location[0], tu_location[1]), (self.start_lat, self.start_lon))\n",
    "    \n",
    "    def __str__(self):\n",
    "             return 'id:' + str(self.get_request_id()) + ' requests a transport at ' \\\n",
    "        + str(self.request_time) +' for ' \\\n",
    "        + str(round(self.get_distance_ride(),3)) + \" KM\" \\\n",
    "        #+ datetime.time.strftime(\"%Y-%m-%d %H:%M:%S\", self.request_time)\n",
    "\n",
    "\n",
    "tr1 = Tr(start_lat=53.2194, start_lon=6.5665, end_lat=53.2350682,  end_lon=6.6068002,     \\\n",
    "         request_time=(2018,4,1,8,25,0), transport_type='p', request_id=1)\n",
    "\n",
    "print(tr1)\n",
    "        "
   ]
  },
  {
   "cell_type": "markdown",
   "metadata": {},
   "source": [
    "### iterating over all classses?\n",
    "https://stackoverflow.com/questions/739882/iterating-over-object-instances-of-a-given-class-in-python\n",
    "is this a good way to find open requests, all open request could iterate over the available cars and once the request is succesfully fullfilled (in tangle) written to the database\n",
    "\n",
    "wat moet er centraal staan in aanvraag.\n",
    "wanneer er b.v. een auto beschikbaar is die nog 10km van aanvrager weg is en er op 500 meter een auto beschikbaar komt over 30 seconde omdat deze dan klaar is met het vervoeren van zijn huidige passagier. wat is dan het beste.\n",
    "\n",
    "wanneer we de auto centraal zetten gaat deze zoeken naar een passagier, de auto vindt de dichtstbijzijnde passagier die staat te wachten op 10KM, deze twee gaan dan een transactie aan en de auto krijgt de state:'onderweg' en de passagier krijgt de state: 'wordt opgepikt' \n",
    "\n",
    "wanneer de passagier centraal staat kijkt deze naar alle auto's,  \n",
    "\n",
    "auto's zonder passagier: rechtstreekse route\n",
    "\n",
    "auto's met passagier: indirecte route (huidige locatie van auto naar eindbestemming en van eindbestemming naar passagier)\n",
    "\n",
    "qua optimalisatie lijkt tweede optie me het handigst \n"
   ]
  },
  {
   "cell_type": "code",
   "execution_count": null,
   "metadata": {},
   "outputs": [],
   "source": []
  }
 ],
 "metadata": {
  "kernelspec": {
   "display_name": "Python 3",
   "language": "python",
   "name": "python3"
  },
  "language_info": {
   "codemirror_mode": {
    "name": "ipython",
    "version": 3
   },
   "file_extension": ".py",
   "mimetype": "text/x-python",
   "name": "python",
   "nbconvert_exporter": "python",
   "pygments_lexer": "ipython3",
   "version": "3.6.4"
  }
 },
 "nbformat": 4,
 "nbformat_minor": 2
}
