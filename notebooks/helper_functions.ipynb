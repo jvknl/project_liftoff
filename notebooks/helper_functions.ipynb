{
 "cells": [
  {
   "cell_type": "code",
   "execution_count": 5,
   "metadata": {},
   "outputs": [],
   "source": [
    "# approximate radius of earth in km\n",
    "# https://www.distancefromto.net/ to check if calculation is correct\n",
    "\n",
    "from math import radians, sin, cos, atan2, sqrt\n",
    "\n",
    "def distance(loc1, loc2):\n",
    "    \"\"\"\n",
    "    calculates the shortest distance between two latitude-longitude locations\n",
    "    \n",
    "    input: two tuples with lat en lon\n",
    "    \n",
    "    output: the distance between the two locations as an int\n",
    "    \"\"\"\n",
    "    R = 6373.0\n",
    "\n",
    "    lat1 = radians(loc1[0])\n",
    "    lon1 = radians(loc1[1])\n",
    "    lat2 = radians(loc2[0])\n",
    "    lon2 = radians(loc2[1])\n",
    "\n",
    "    dlon = lon2 - lon1\n",
    "    dlat = lat2 - lat1\n",
    "\n",
    "    a = sin(dlat / 2)**2 + cos(lat1) * cos(lat2) * sin(dlon / 2)**2\n",
    "    c = 2 * atan2(sqrt(a), sqrt(1 - a))\n",
    "\n",
    "    return (R * c)"
   ]
  },
  {
   "cell_type": "code",
   "execution_count": 9,
   "metadata": {},
   "outputs": [
    {
     "data": {
      "text/plain": [
       "10484.932655854396"
      ]
     },
     "execution_count": 9,
     "metadata": {},
     "output_type": "execute_result"
    }
   ],
   "source": [
    "distance((53.2194, 6.5665),(4,5.1))"
   ]
  },
  {
   "cell_type": "code",
   "execution_count": 11,
   "metadata": {},
   "outputs": [
    {
     "data": {
      "text/plain": [
       "271.7015667695077"
      ]
     },
     "execution_count": 11,
     "metadata": {},
     "output_type": "execute_result"
    }
   ],
   "source": [
    "distance((53.2194, 6.5665), (53.2350682, 6.6068002))"
   ]
  },
  {
   "cell_type": "code",
   "execution_count": null,
   "metadata": {},
   "outputs": [],
   "source": [
    "import os\n",
    "import urllib.parse\n",
    "import  requests\n",
    "import time\n",
    "\n",
    "\n",
    "# by creating an enviroment variable it's possible to store your password only on your computer\n",
    "# start-button >> right click 'computer' icon >> eigenschappen >> geavanceerde systeem instellingen \n",
    "# >> omgevingsvariabelen >> nieuwe systeemvariabele met PWD_NETWORK als key\n",
    "\n",
    "# test with:\n",
    "print(os.environ.get(\"PWD_NETWORK\"))"
   ]
  },
  {
   "cell_type": "code",
   "execution_count": 14,
   "metadata": {},
   "outputs": [],
   "source": [
    "def get_lon_lat_from_address(address):\n",
    "    \"\"\"\n",
    "    returns dictionary with the lon-lat location of an address based on google map api\n",
    "      \n",
    "    input: string with an address or postal code\n",
    "    \n",
    "    output: dictionary with lon-lat location\n",
    "    \n",
    "    \"\"\"\n",
    "    try:\n",
    "        for i in range(10):\n",
    "            main_api = 'http://maps.googleapis.com/maps/api/geocode/json?'\n",
    "            url = main_api + urllib.parse.urlencode({\"address\": address})\n",
    "            json_data = requests.get(url).json()\n",
    "            location = json_data[\"results\"][0]['geometry']['location']\n",
    "            if len(location) == 2:\n",
    "                return(location)\n",
    "                print(i)\n",
    "                break\n",
    "    except:\n",
    "        return(\"getting the lon-lat coordinates from google api did not work: \")\n",
    "    \n",
    "    "
   ]
  },
  {
   "cell_type": "code",
   "execution_count": 23,
   "metadata": {},
   "outputs": [
    {
     "data": {
      "text/plain": [
       "{'error_message': 'You have exceeded your daily request quota for this API. We recommend registering for a key at the Google Developers Console: https://console.developers.google.com/apis/credentials?project=_',\n",
       " 'results': [],\n",
       " 'status': 'OVER_QUERY_LIMIT'}"
      ]
     },
     "execution_count": 23,
     "metadata": {},
     "output_type": "execute_result"
    }
   ],
   "source": [
    "import urllib, requests\n",
    "\n",
    "address = '1051KG'\n",
    "main_api = 'http://maps.googleapis.com/maps/api/geocode/json?'\n",
    "url = main_api + urllib.parse.urlencode({\"address\": address})\n",
    "json_data = requests.get(url).json()\n",
    "json_data"
   ]
  },
  {
   "cell_type": "code",
   "execution_count": 4,
   "metadata": {},
   "outputs": [],
   "source": [
    "\n",
    "def get_directions_from_address(origin, destination):\n",
    "    try:\n",
    "        main_api = 'http://maps.googleapis.com/maps/api/directions/json?'\n",
    "        url = main_api + urllib.parse.urlencode({\"origin\": origin})+ \"&\" + \\\n",
    "            urllib.parse.urlencode({\"destination\": destination}) + \"&mode=car\"\n",
    "        json_data = requests.get(url).json()\n",
    "        duration = json_data['routes'][0]['legs'][0]['duration']\n",
    "        return(duration, json_data)\n",
    "#         location = json_data[\"results\"][0]['geometry']['location']\n",
    "#         if len(location) == 2:\n",
    "#             return(location)\n",
    "#             print(i)\n",
    "#             break\n",
    "    except:\n",
    "        return(\"getting the lon-lat coordinates from google api did not work\")"
   ]
  },
  {
   "cell_type": "code",
   "execution_count": null,
   "metadata": {},
   "outputs": [],
   "source": []
  }
 ],
 "metadata": {
  "kernelspec": {
   "display_name": "Python 3",
   "language": "python",
   "name": "python3"
  },
  "language_info": {
   "codemirror_mode": {
    "name": "ipython",
    "version": 3
   },
   "file_extension": ".py",
   "mimetype": "text/x-python",
   "name": "python",
   "nbconvert_exporter": "python",
   "pygments_lexer": "ipython3",
   "version": "3.6.4"
  }
 },
 "nbformat": 4,
 "nbformat_minor": 2
}
